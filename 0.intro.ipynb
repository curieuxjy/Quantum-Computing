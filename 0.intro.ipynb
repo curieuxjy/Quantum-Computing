{
 "cells": [
  {
   "cell_type": "markdown",
   "id": "geographic-signature",
   "metadata": {},
   "source": [
    "# Installing Qiskit\n",
    "\n",
    "[Docs](https://qiskit.org/documentation/install.html)"
   ]
  },
  {
   "cell_type": "markdown",
   "id": "portable-railway",
   "metadata": {},
   "source": []
  },
  {
   "cell_type": "code",
   "execution_count": 10,
   "id": "black-increase",
   "metadata": {},
   "outputs": [],
   "source": [
    "#!pip install qiskit"
   ]
  },
  {
   "cell_type": "code",
   "execution_count": 11,
   "id": "intended-criticism",
   "metadata": {},
   "outputs": [],
   "source": [
    "#!pip install pylatexenc"
   ]
  },
  {
   "cell_type": "code",
   "execution_count": 1,
   "id": "continued-insulin",
   "metadata": {},
   "outputs": [],
   "source": [
    "%matplotlib inline\n",
    "from qiskit import QuantumCircuit, QuantumRegister, ClassicalRegister, execute, Aer, IBMQ\n",
    "from qiskit.compiler import transpile, assemble\n",
    "from qiskit.tools.jupyter import *\n",
    "from qiskit.visualization import *"
   ]
  },
  {
   "cell_type": "code",
   "execution_count": 2,
   "id": "saving-defendant",
   "metadata": {},
   "outputs": [],
   "source": [
    "from qiskit import IBMQ"
   ]
  },
  {
   "cell_type": "code",
   "execution_count": 3,
   "id": "conventional-crystal",
   "metadata": {},
   "outputs": [
    {
     "name": "stderr",
     "output_type": "stream",
     "text": [
      "configrc.store_credentials:WARNING:2021-02-07 10:12:42,012: Credentials already present. Set overwrite=True to overwrite.\n"
     ]
    }
   ],
   "source": [
    "IBMQ.save_account(\"542bfe4b659c78f73b2ec9acbc4fbbee428ab697354ab4a28dd0765e9f3cccedc8c53cb733fb425526c71e39e2870a1e77420366bf0f211507ae3cfcddae2989\")"
   ]
  },
  {
   "cell_type": "code",
   "execution_count": 4,
   "id": "radio-berlin",
   "metadata": {},
   "outputs": [
    {
     "data": {
      "text/plain": [
       "<qiskit.circuit.instructionset.InstructionSet at 0x2b31d4a6b08>"
      ]
     },
     "execution_count": 4,
     "metadata": {},
     "output_type": "execute_result"
    }
   ],
   "source": [
    "q = QuantumRegister(2,'q')\n",
    "c = ClassicalRegister(2,'c')\n",
    "circuit = QuantumCircuit(q,c)\n",
    "\n",
    "circuit.h(q[0])\n",
    "circuit.cx(q[0], q[1])"
   ]
  },
  {
   "cell_type": "code",
   "execution_count": 5,
   "id": "prostate-circuit",
   "metadata": {},
   "outputs": [
    {
     "data": {
      "text/plain": [
       "<qiskit.circuit.instructionset.InstructionSet at 0x2b31d4a6748>"
      ]
     },
     "execution_count": 5,
     "metadata": {},
     "output_type": "execute_result"
    }
   ],
   "source": [
    "circuit.measure(q,c)"
   ]
  },
  {
   "cell_type": "code",
   "execution_count": 9,
   "id": "verbal-catch",
   "metadata": {},
   "outputs": [
    {
     "data": {
      "image/png": "[encoded data removed]",
      "text/plain": [
       "<Figure size 327.252x204.68 with 1 Axes>"
      ]
     },
     "execution_count": 9,
     "metadata": {},
     "output_type": "execute_result"
    }
   ],
   "source": [
    "circuit.draw(output=\"mpl\") #matplotlib인듯"
   ]
  },
  {
   "cell_type": "code",
   "execution_count": null,
   "id": "worst-milton",
   "metadata": {},
   "outputs": [],
   "source": []
  }
 ],
 "metadata": {
  "kernelspec": {
   "display_name": "Python 3",
   "language": "python",
   "name": "python3"
  },
  "language_info": {
   "codemirror_mode": {
    "name": "ipython",
    "version": 3
   },
   "file_extension": ".py",
   "mimetype": "text/x-python",
   "name": "python",
   "nbconvert_exporter": "python",
   "pygments_lexer": "ipython3",
   "version": "3.7.4"
  }
 },
 "nbformat": 4,
 "nbformat_minor": 5
}
