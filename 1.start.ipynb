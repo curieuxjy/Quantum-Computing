{
 "cells": [
  {
   "cell_type": "markdown",
   "id": "designing-melbourne",
   "metadata": {},
   "source": [
    "# Getting Started with Qiskit\n",
    "\n",
    "[Docs](https://qiskit.org/documentation/getting_started.html)"
   ]
  },
  {
   "cell_type": "code",
   "execution_count": 1,
   "id": "armed-starter",
   "metadata": {},
   "outputs": [],
   "source": [
    "import matplotlib.pyplot as plt\n",
    "import numpy as np\n",
    "\n",
    "from qiskit import Aer, QuantumRegister, QuantumCircuit\n",
    "from qiskit.circuit import ParameterVector\n",
    "from qiskit.circuit.library import TwoLocal, NormalDistribution\n",
    "from qiskit.quantum_info import Statevector\n",
    "\n",
    "from qiskit.aqua import aqua_globals, QuantumInstance\n",
    "from qiskit.aqua.algorithms import IterativeAmplitudeEstimation\n",
    "from qiskit.finance.applications import EuropeanCallExpectedValue"
   ]
  },
  {
   "cell_type": "code",
   "execution_count": 2,
   "id": "spanish-testing",
   "metadata": {},
   "outputs": [
    {
     "ename": "TypeError",
     "evalue": "__init__() missing 4 required positional arguments: 'num_state_qubits', 'strike_price', 'rescaling_factor', and 'bounds'",
     "output_type": "error",
     "traceback": [
      "\u001b[1;31m---------------------------------------------------------------------------\u001b[0m",
      "\u001b[1;31mTypeError\u001b[0m                                 Traceback (most recent call last)",
      "\u001b[1;32m<ipython-input-2-a71b6ad49dbd>\u001b[0m in \u001b[0;36m<module>\u001b[1;34m\u001b[0m\n\u001b[1;32m----> 1\u001b[1;33m \u001b[0mEuropeanCallExpectedValue\u001b[0m\u001b[1;33m(\u001b[0m\u001b[1;33m)\u001b[0m\u001b[1;33m\u001b[0m\u001b[1;33m\u001b[0m\u001b[0m\n\u001b[0m",
      "\u001b[1;31mTypeError\u001b[0m: __init__() missing 4 required positional arguments: 'num_state_qubits', 'strike_price', 'rescaling_factor', and 'bounds'"
     ]
    }
   ],
   "source": [
    "EuropeanCallExpectedValue()"
   ]
  },
  {
   "cell_type": "code",
   "execution_count": null,
   "id": "revised-radical",
   "metadata": {},
   "outputs": [],
   "source": []
  }
 ],
 "metadata": {
  "kernelspec": {
   "display_name": "Python 3",
   "language": "python",
   "name": "python3"
  },
  "language_info": {
   "codemirror_mode": {
    "name": "ipython",
    "version": 3
   },
   "file_extension": ".py",
   "mimetype": "text/x-python",
   "name": "python",
   "nbconvert_exporter": "python",
   "pygments_lexer": "ipython3",
   "version": "3.7.4"
  }
 },
 "nbformat": 4,
 "nbformat_minor": 5
}
