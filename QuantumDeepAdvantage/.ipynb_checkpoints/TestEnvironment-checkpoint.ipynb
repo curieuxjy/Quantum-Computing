{
 "cells": [
  {
   "cell_type": "code",
   "execution_count": 1,
   "metadata": {},
   "outputs": [
    {
     "name": "stdout",
     "output_type": "stream",
     "text": [
      "modules.py loaded.\n",
      "Current date/time: 2019-11-19 18:39:32.195348\n"
     ]
    }
   ],
   "source": [
    "from Environment import Environment"
   ]
  },
  {
   "cell_type": "code",
   "execution_count": 8,
   "metadata": {},
   "outputs": [
    {
     "name": "stdout",
     "output_type": "stream",
     "text": [
      "At end of step 0, action is ['Z', 0], inner_product is 0.4999999999999999\n",
      "At end of step 1, action is ['Z', 0], inner_product is 0.4999999999999999\n",
      "At end of step 2, action is ['H', 1], inner_product is 0.4999999999999999\n",
      "['CX', [0, 1]]\n",
      "At end of step 3, action is ['CX', [0, 1]], inner_product is 0.4999999999999999\n",
      "[0.70710678+0.j 0.        +0.j 0.70710678+0.j 0.        +0.j]\n",
      "0\n",
      "False\n"
     ]
    }
   ],
   "source": [
    "import numpy as np\n",
    "bell = 1 / np.sqrt(2) * np.array([1, 0, 0, 1])\n",
    "\n",
    "env = Environment.Environment(2)\n",
    "env.step(['Z',0])\n",
    "env.step(['Z',0])\n",
    "env.step(['H',1])\n",
    "env.step(['CX',[0,1]])\n",
    "\n",
    "print(env.state)\n",
    "print(env.reward())\n",
    "print(env.is_terminated())"
   ]
  },
  {
   "cell_type": "code",
   "execution_count": null,
   "metadata": {},
   "outputs": [],
   "source": []
  }
 ],
 "metadata": {
  "kernelspec": {
   "display_name": "Python 3",
   "language": "python",
   "name": "python3"
  },
  "language_info": {
   "codemirror_mode": {
    "name": "ipython",
    "version": 3
   },
   "file_extension": ".py",
   "mimetype": "text/x-python",
   "name": "python",
   "nbconvert_exporter": "python",
   "pygments_lexer": "ipython3",
   "version": "3.7.4"
  }
 },
 "nbformat": 4,
 "nbformat_minor": 4
}
