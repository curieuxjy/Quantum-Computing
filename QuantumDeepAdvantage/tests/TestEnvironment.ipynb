{
 "cells": [
  {
   "cell_type": "code",
   "execution_count": 1,
   "metadata": {},
   "outputs": [
    {
     "name": "stdout",
     "output_type": "stream",
     "text": [
      "modules.py loaded.\n",
      "Current date/time: 2019-11-19 19:46:47.504592\n"
     ]
    }
   ],
   "source": [
    "from Environment import Environment"
   ]
  },
  {
   "cell_type": "code",
   "execution_count": 2,
   "metadata": {},
   "outputs": [
    {
     "name": "stdout",
     "output_type": "stream",
     "text": [
      "At end of step 0, action is ['Z', 0], inner_product is 0.4999999999999999\n",
      "At end of step 1, action is ['Z', 0], inner_product is 0.4999999999999999\n",
      "At end of step 2, action is ['H', 1], inner_product is 0.25\n",
      "['CX', [0, 1]]\n",
      "At end of step 3, action is ['CX', [0, 1]], inner_product is 0.25\n",
      "[0.70710678+0.j 0.        +0.j 0.70710678+0.j 0.        +0.j]\n",
      "0\n",
      "False\n"
     ]
    }
   ],
   "source": [
    "import numpy as np\n",
    "bell = 1 / np.sqrt(2) * np.array([1, 0, 0, 1])\n",
    "\n",
    "env = Environment.Environment(2)\n",
    "env.step(['Z',0])\n",
    "env.step(['Z',0])\n",
    "env.step(['H',1])\n",
    "env.step(['CX',[0,1]])\n",
    "\n",
    "print(env.state)\n",
    "print(env.reward())\n",
    "print(env.is_terminated())"
   ]
  },
  {
   "cell_type": "code",
   "execution_count": 9,
   "metadata": {},
   "outputs": [
    {
     "data": {
      "text/plain": [
       "array([0.70710678+0.j, 0.        +0.j, 0.70710678+0.j, 0.        +0.j])"
      ]
     },
     "execution_count": 9,
     "metadata": {},
     "output_type": "execute_result"
    }
   ],
   "source": [
    "env.state"
   ]
  },
  {
   "cell_type": "code",
   "execution_count": 10,
   "metadata": {},
   "outputs": [],
   "source": [
    "bell = 1/np.sqrt(2)*np.array([1, 0, 0, 1])"
   ]
  },
  {
   "cell_type": "code",
   "execution_count": 11,
   "metadata": {},
   "outputs": [
    {
     "data": {
      "text/plain": [
       "(0.5+0j)"
      ]
     },
     "execution_count": 11,
     "metadata": {},
     "output_type": "execute_result"
    }
   ],
   "source": [
    "np.vdot(env.state, bell)"
   ]
  },
  {
   "cell_type": "code",
   "execution_count": 3,
   "metadata": {},
   "outputs": [
    {
     "name": "stdout",
     "output_type": "stream",
     "text": [
      "At end of step 0, action is ['Y', 1], inner_product is 0.0\n",
      "[0.+0.j 0.+0.j 0.+1.j 0.+0.j]\n",
      "At end of step 1, action is ['H', 0], inner_product is 0.2499999999999999\n",
      "[0.+0.j         0.+0.j         0.+0.70710678j 0.+0.70710678j]\n",
      "At end of step 2, action is ['T', 0], inner_product is 0.2499999999999999\n",
      "[ 0. +0.j          0. +0.j          0. +0.70710678j -0.5+0.5j       ]\n",
      "At end of step 3, action is ['Y', 0], inner_product is 0.25\n",
      "[ 0.        +0.j   0.        +0.j   0.5       +0.5j -0.70710678+0.j ]\n",
      "At end of step 4, action is ['Z', 1], inner_product is 0.25\n",
      "[ 0.        +0.j   0.        +0.j  -0.5       -0.5j  0.70710678+0.j ]\n",
      "At end of step 5, action is ['Y', 0], inner_product is 0.2499999999999999\n",
      "[0. +0.j         0. +0.j         0. -0.70710678j 0.5-0.5j       ]\n",
      "At end of step 6, action is ['Z', 1], inner_product is 0.2499999999999999\n",
      "[ 0. +0.j          0. +0.j          0. +0.70710678j -0.5+0.5j       ]\n",
      "At end of step 7, action is ['Y', 0], inner_product is 0.25\n",
      "[ 0.        +0.j   0.        +0.j   0.5       +0.5j -0.70710678+0.j ]\n",
      "At end of step 8, action is ['H', 0], inner_product is 0.42677669529663675\n",
      "[ 0.        +0.j          0.        +0.j         -0.14644661+0.35355339j\n",
      "  0.85355339+0.35355339j]\n",
      "At end of step 9, action is ['Y', 0], inner_product is 0.07322330470336312\n",
      "[ 0.        +0.j          0.        +0.j          0.35355339-0.85355339j\n",
      " -0.35355339-0.14644661j]\n"
     ]
    }
   ],
   "source": [
    "env = Environment.Environment(2)\n",
    "\n",
    "env.step(['Y',1])\n",
    "print(env.state)\n",
    "env.step(['H',0])\n",
    "print(env.state)\n",
    "env.step(['T',0])\n",
    "print(env.state)\n",
    "env.step(['Y',0])\n",
    "print(env.state)\n",
    "env.step(['Z',1])\n",
    "print(env.state)\n",
    "env.step(['Y',0])\n",
    "print(env.state)\n",
    "env.step(['Z',1])\n",
    "print(env.state)\n",
    "env.step(['Y',0])\n",
    "print(env.state)\n",
    "env.step(['H',0])\n",
    "print(env.state)\n",
    "env.step(['Y',0])\n",
    "print(env.state)"
   ]
  },
  {
   "cell_type": "code",
   "execution_count": 8,
   "metadata": {},
   "outputs": [
    {
     "name": "stdout",
     "output_type": "stream",
     "text": [
      "At end of step 0, action is ['X', 0], inner_product is 0.4999999999999999\n",
      "[0.+0.j 1.+0.j 0.+0.j 0.+0.j]\n",
      "At end of step 1, action is ['Y', 1], inner_product is 0.0\n",
      "[0.+0.j 0.+0.j 0.+0.j 0.+1.j]\n",
      "At end of step 2, action is ['Z', 1], inner_product is 0.4999999999999999\n",
      "[0.+0.j 0.+0.j 0.+0.j 0.-1.j]\n",
      "At end of step 3, action is ['H', 1], inner_product is 0.4999999999999999\n",
      "[0.+0.j         0.-0.70710678j 0.+0.j         0.+0.70710678j]\n",
      "At end of step 4, action is ['X', 1], inner_product is 0.25\n",
      "[0.+0.j         0.+0.70710678j 0.+0.j         0.-0.70710678j]\n",
      "At end of step 5, action is ['X', 0], inner_product is 0.2499999999999999\n",
      "[0.+0.70710678j 0.+0.j         0.-0.70710678j 0.+0.j        ]\n",
      "At end of step 6, action is ['Z', 0], inner_product is 0.25\n",
      "[0.+0.70710678j 0.+0.j         0.-0.70710678j 0.+0.j        ]\n",
      "At end of step 7, action is ['X', 0], inner_product is 0.25\n",
      "[0.+0.j         0.+0.70710678j 0.+0.j         0.-0.70710678j]\n",
      "At end of step 8, action is ['Y', 1], inner_product is 0.2499999999999999\n",
      "[ 0.        +0.j -0.70710678+0.j  0.        +0.j -0.70710678+0.j]\n",
      "At end of step 9, action is ['H', 0], inner_product is 0.25\n",
      "[-0.5+0.j  0.5+0.j -0.5+0.j  0.5+0.j]\n"
     ]
    }
   ],
   "source": [
    "env = Environment.Environment(2)\n",
    "\n",
    "env.step(['X',0])\n",
    "env.reward()\n",
    "print(env.state)\n",
    "env.step(['Y',1])\n",
    "env.reward()\n",
    "print(env.state)\n",
    "env.step(['Z',1])\n",
    "env.reward()\n",
    "print(env.state)\n",
    "env.step(['H',1])\n",
    "env.reward()\n",
    "print(env.state)\n",
    "env.step(['X',1])\n",
    "env.reward()\n",
    "print(env.state)\n",
    "env.step(['X',0])\n",
    "env.reward()\n",
    "print(env.state)\n",
    "env.step(['Z',0])\n",
    "env.reward()\n",
    "print(env.state)\n",
    "env.step(['X',0])\n",
    "env.reward()\n",
    "print(env.state)\n",
    "env.step(['Y',1])\n",
    "env.reward()\n",
    "print(env.state)\n",
    "env.step(['H',0])\n",
    "env.reward()\n",
    "print(env.state)"
   ]
  },
  {
   "cell_type": "code",
   "execution_count": 5,
   "metadata": {},
   "outputs": [
    {
     "name": "stdout",
     "output_type": "stream",
     "text": [
      "[0.70710678 0.         0.         0.70710678]\n"
     ]
    }
   ],
   "source": [
    "print(env.target_state)"
   ]
  },
  {
   "cell_type": "code",
   "execution_count": 6,
   "metadata": {},
   "outputs": [
    {
     "data": {
      "text/plain": [
       "(1.1102230246251565e-16+0j)"
      ]
     },
     "execution_count": 6,
     "metadata": {},
     "output_type": "execute_result"
    }
   ],
   "source": [
    "np.vdot(env.state, env.target_state)"
   ]
  },
  {
   "cell_type": "code",
   "execution_count": 7,
   "metadata": {},
   "outputs": [
    {
     "data": {
      "text/plain": [
       "1.232595164407831e-32"
      ]
     },
     "execution_count": 7,
     "metadata": {},
     "output_type": "execute_result"
    }
   ],
   "source": [
    "np.abs(np.vdot(env.state, env.target_state))**2"
   ]
  },
  {
   "cell_type": "code",
   "execution_count": null,
   "metadata": {},
   "outputs": [],
   "source": []
  }
 ],
 "metadata": {
  "kernelspec": {
   "display_name": "Python 3",
   "language": "python",
   "name": "python3"
  },
  "language_info": {
   "codemirror_mode": {
    "name": "ipython",
    "version": 3
   },
   "file_extension": ".py",
   "mimetype": "text/x-python",
   "name": "python",
   "nbconvert_exporter": "python",
   "pygments_lexer": "ipython3",
   "version": "3.7.4"
  }
 },
 "nbformat": 4,
 "nbformat_minor": 4
}
