{
 "cells": [
  {
   "cell_type": "markdown",
   "metadata": {},
   "source": [
    "https://medium.com/analytics-vidhya/quantum-machine-learning-inference-on-bayesian-networks-351f242816e8\n",
    "\n",
    "[Ancilla_bit](https://en.wikipedia.org/wiki/Ancilla_bit)\n",
    "\n",
    "[ancilla qubit 이란](http://qopt.postech.ac.kr/wp-content/uploads/2020/12/1-10.pdf)\n",
    "\n",
    "# Setup"
   ]
  },
  {
   "cell_type": "code",
   "execution_count": 1,
   "metadata": {},
   "outputs": [
    {
     "name": "stderr",
     "output_type": "stream",
     "text": [
      "d:\\installation\\anaconda3\\lib\\site-packages\\qiskit\\providers\\ibmq\\ibmqfactory.py:192: UserWarning: Timestamps in IBMQ backend properties, jobs, and job results are all now in local time instead of UTC.\n",
      "  warnings.warn('Timestamps in IBMQ backend properties, jobs, and job results '\n",
      "configrc.store_credentials:WARNING:2021-02-13 12:57:31,172: Credentials already present. Set overwrite=True to overwrite.\n"
     ]
    }
   ],
   "source": [
    "from qiskit.tools.jupyter import *\n",
    "from qiskit import IBMQ\n",
    "IBMQ.load_account()\n",
    "#provider = IBMQ.get_provider(hub='ibm-q', group='open', project='main')\n",
    "#provider = IBMQ.get_provider(hub='ibm-q-oxford', group='on-boarding', project='on-boarding-proj') \n",
    "IBMQ.save_account(\"542bfe4b659c78f73b2ec9acbc4fbbee428ab697354ab4a28dd0765e9f3cccedc8c53cb733fb425526c71e39e2870a1e77420366bf0f211507ae3cfcddae2989\")\n",
    "\n",
    "\n",
    "from qiskit import QuantumRegister, ClassicalRegister \n",
    "from qiskit import QuantumCircuit, Aer\n",
    "from qiskit import execute\n",
    "\n",
    "# Create one 4 qubit QuantumRegister to hold the Bayesian network and an ancilla qubit,\n",
    "# and a 3 bit ClassicalRegister to hold the sampled values\n",
    "net = QuantumRegister(4, 'qreg') \n",
    "cl = ClassicalRegister(3, 'creg')\n",
    "\n",
    "circ = QuantumCircuit(net, cl, name='circ')"
   ]
  },
  {
   "cell_type": "code",
   "execution_count": 2,
   "metadata": {},
   "outputs": [
    {
     "name": "stdout",
     "output_type": "stream",
     "text": [
      "        \n",
      "qreg_0: \n",
      "        \n",
      "qreg_1: \n",
      "        \n",
      "qreg_2: \n",
      "        \n",
      "qreg_3: \n",
      "        \n",
      "creg: 3/\n",
      "        \n"
     ]
    }
   ],
   "source": [
    "print(circ)"
   ]
  },
  {
   "cell_type": "markdown",
   "metadata": {},
   "source": [
    "$\\theta=2 \\sin ^{-1} \\sqrt{P(1)}$"
   ]
  },
  {
   "cell_type": "code",
   "execution_count": 3,
   "metadata": {},
   "outputs": [],
   "source": [
    "from numpy import arcsin, sqrt, pi\n",
    "\n",
    "def probToAngle(prob):\n",
    "    \"\"\"\n",
    "    Converts a given P(1) value into an equivalent theta value.\n",
    "    \"\"\"\n",
    "    return 2*arcsin(sqrt(prob))"
   ]
  },
  {
   "cell_type": "code",
   "execution_count": 4,
   "metadata": {},
   "outputs": [
    {
     "name": "stderr",
     "output_type": "stream",
     "text": [
      "d:\\installation\\anaconda3\\lib\\site-packages\\ipykernel_launcher.py:2: DeprecationWarning: The QuantumCircuit.u3 method is deprecated as of 0.16.0. It will be removed no earlier than 3 months after the release date. You should use QuantumCircuit.u instead, which acts identically. Alternatively, you can decompose u3 in terms of QuantumCircuit.p and QuantumCircuit.sx: u3(ϴ,φ,λ) = p(φ+π) sx p(ϴ+π) sx p(λ) (2 pulses on hardware).\n",
      "  \n"
     ]
    },
    {
     "data": {
      "text/plain": [
       "<qiskit.circuit.instructionset.InstructionSet at 0x1e150f30bc8>"
      ]
     },
     "execution_count": 4,
     "metadata": {},
     "output_type": "execute_result"
    }
   ],
   "source": [
    "# Setting up a qubit to represent the variable P\n",
    "circ.u3(probToAngle(0.35), 0, 0, net[0])\n",
    "\n",
    "# Since we have P = 1, we use the second row of the probability table for the variable E\n",
    "circ.u3(probToAngle(0.76), 0, 0, net[1])\n",
    "\n",
    "# Setting up the qubit representing H assuming that E = 0\n",
    "circ.u3(probToAngle(0.39), 0, 0, net[2])"
   ]
  },
  {
   "cell_type": "code",
   "execution_count": 5,
   "metadata": {},
   "outputs": [
    {
     "name": "stdout",
     "output_type": "stream",
     "text": [
      "        ┌────────────────┐\n",
      "qreg_0: ┤ U3(1.2661,0,0) ├\n",
      "        ├────────────────┤\n",
      "qreg_1: ┤ U3(2.1176,0,0) ├\n",
      "        ├───────────────┬┘\n",
      "qreg_2: ┤ U3(1.349,0,0) ├─\n",
      "        └───────────────┘ \n",
      "qreg_3: ──────────────────\n",
      "                          \n",
      "creg: 3/══════════════════\n",
      "                          \n"
     ]
    }
   ],
   "source": [
    "print(circ)"
   ]
  },
  {
   "cell_type": "markdown",
   "metadata": {},
   "source": [
    "# Oracle과 Ugate 함수"
   ]
  },
  {
   "cell_type": "code",
   "execution_count": 6,
   "metadata": {},
   "outputs": [],
   "source": [
    "def oracle(circ):\n",
    "    \"\"\"\n",
    "    Implements an oracle that flips the sign of states that contain P = 1.\n",
    "    \"\"\"\n",
    "    circ.cu3(pi, pi, 0, net[0], net[1])\n",
    "    circ.cu3(pi, pi, 0, net[0], net[1])    \n",
    "    return circ\n",
    "\n",
    "\n",
    "def u_gate(circ):\n",
    "    \"\"\"\n",
    "    Implements the U gate that flips states about the average amplitude.\n",
    "    \"\"\"\n",
    "    # Implements the quantum circuit that converts ψ -> |000...0>\n",
    "    circ.u3(-1*probToAngle(0.35), 0, 0, net[0])\n",
    "    circ.u3(-1*probToAngle(0.76), 0, 0, net[1])\n",
    "    circ.u3(-1*probToAngle(0.39), 0, 0, net[2])\n",
    "\n",
    "    # Flipping the |000...0> state using a triple controlled Z gate condtioned on P, E and H, \n",
    "    # and applied to the ancilla\n",
    "    circ.x(net)\n",
    "    circ.cu1(pi/4, net[0], net[3])\n",
    "    circ.cx(net[0], net[1])\n",
    "    circ.cu1(-pi/4, net[1], net[3])\n",
    "    circ.cx(net[0], net[1])\n",
    "    circ.cu1(pi/4, net[1], net[3])\n",
    "    circ.cx(net[1], net[2])\n",
    "    circ.cu1(-pi/4, net[2], net[3])\n",
    "    circ.cx(net[0], net[2])\n",
    "    circ.cu1(pi/4, net[2], net[3])\n",
    "    circ.cx(net[1], net[2])\n",
    "    circ.cu1(-pi/4, net[2], net[3])\n",
    "    circ.cx(net[0], net[2])\n",
    "    circ.cu1(pi/4, net[2], net[3])\n",
    "    circ.x(net)\n",
    "\n",
    "    # Implements the quantum circuit that converts |000...0> -> ψ \n",
    "    circ.u3(probToAngle(0.35), 0, 0, net[0])\n",
    "    circ.u3(probToAngle(0.76), 0, 0, net[1])\n",
    "    circ.u3(probToAngle(0.39), 0, 0, net[2])\n",
    "\n",
    "    return circ"
   ]
  },
  {
   "cell_type": "markdown",
   "metadata": {},
   "source": [
    "# apply"
   ]
  },
  {
   "cell_type": "code",
   "execution_count": 8,
   "metadata": {},
   "outputs": [
    {
     "name": "stderr",
     "output_type": "stream",
     "text": [
      "d:\\installation\\anaconda3\\lib\\site-packages\\ipykernel_launcher.py:5: DeprecationWarning: The QuantumCircuit.cu3 method is deprecated as of 0.16.0. It will be removed no earlier than 3 months after the release date. You should use the QuantumCircuit.cu method instead, where cu3(ϴ,φ,λ) = cu(ϴ,φ,λ,0).\n",
      "  \"\"\"\n",
      "d:\\installation\\anaconda3\\lib\\site-packages\\ipykernel_launcher.py:22: DeprecationWarning: The QuantumCircuit.cu1 method is deprecated as of 0.16.0. It will be removed no earlier than 3 months after the release date. You should use the QuantumCircuit.cp method instead, which acts identically.\n"
     ]
    },
    {
     "data": {
      "text/plain": [
       "<qiskit.circuit.instructionset.InstructionSet at 0x1e150fed548>"
      ]
     },
     "execution_count": 8,
     "metadata": {},
     "output_type": "execute_result"
    }
   ],
   "source": [
    "# Apply oracle and U gate twice\n",
    "circ = oracle(circ)\n",
    "circ = u_gate(circ)\n",
    "circ = oracle(circ)\n",
    "circ = u_gate(circ)\n",
    "circ.x(net[0])"
   ]
  },
  {
   "cell_type": "code",
   "execution_count": 9,
   "metadata": {},
   "outputs": [
    {
     "name": "stdout",
     "output_type": "stream",
     "text": [
      "        ┌────────────────┐                               ┌─────────────────┐»\n",
      "qreg_0: ┤ U3(1.2661,0,0) ├────────■───────────────■──────┤ U3(-1.2661,0,0) ├»\n",
      "        ├────────────────┤  ┌─────┴─────┐   ┌─────┴─────┐├─────────────────┤»\n",
      "qreg_1: ┤ U3(2.1176,0,0) ├──┤ U3(π,π,0) ├───┤ U3(π,π,0) ├┤ U3(-2.1176,0,0) ├»\n",
      "        ├───────────────┬┘┌─┴───────────┴──┐└───┬───┬───┘└─────────────────┘»\n",
      "qreg_2: ┤ U3(1.349,0,0) ├─┤ U3(-1.349,0,0) ├────┤ X ├───────────────────────»\n",
      "        └─────┬───┬─────┘ └────────────────┘    └───┘                       »\n",
      "qreg_3: ──────┤ X ├─────────────────────────────────────────────────────────»\n",
      "              └───┘                                                         »\n",
      "creg: 3/════════════════════════════════════════════════════════════════════»\n",
      "                                                                            »\n",
      "«        ┌───┐                                                                »\n",
      "«qreg_0: ┤ X ├─■──────■───────────■──────────────────────■────────────────────»\n",
      "«        ├───┤ │    ┌─┴─┐       ┌─┴─┐                    │              ┌───┐ »\n",
      "«qreg_1: ┤ X ├─┼────┤ X ├─■─────┤ X ├─■──────■───────────┼──────────■───┤ X ├─»\n",
      "«        └───┘ │    └───┘ │     └───┘ │    ┌─┴─┐       ┌─┴─┐      ┌─┴─┐ └───┘ »\n",
      "«qreg_2: ──────┼──────────┼───────────┼────┤ X ├─■─────┤ X ├─■────┤ X ├─■─────»\n",
      "«              │π/4       │-π/4       │π/4 └───┘ │-π/4 └───┘ │π/4 └───┘ │-π/4 »\n",
      "«qreg_3: ──────■──────────■───────────■──────────■───────────■──────────■─────»\n",
      "«                                                                             »\n",
      "«creg: 3/═════════════════════════════════════════════════════════════════════»\n",
      "«                                                                             »\n",
      "«                   ┌───┐       ┌────────────────┐                 »\n",
      "«qreg_0: ──■────────┤ X ├───────┤ U3(1.2661,0,0) ├────────■────────»\n",
      "«          │  ┌─────┴───┴──────┐└────────────────┘  ┌─────┴─────┐  »\n",
      "«qreg_1: ──┼──┤ U3(2.1176,0,0) ├────────────────────┤ U3(π,π,0) ├──»\n",
      "«        ┌─┴─┐└────────────────┘      ┌───┐       ┌─┴───────────┴─┐»\n",
      "«qreg_2: ┤ X ├───────■────────────────┤ X ├───────┤ U3(1.349,0,0) ├»\n",
      "«        └───┘       │π/4             ├───┤       └─────┬───┬─────┘»\n",
      "«qreg_3: ────────────■────────────────┤ X ├─────────────┤ X ├──────»\n",
      "«                                     └───┘             └───┘      »\n",
      "«creg: 3/══════════════════════════════════════════════════════════»\n",
      "«                                                                  »\n",
      "«                          ┌─────────────────┐┌───┐                       »\n",
      "«qreg_0: ────────■─────────┤ U3(-1.2661,0,0) ├┤ X ├─■──────■───────────■──»\n",
      "«          ┌─────┴─────┐   ├─────────────────┤├───┤ │    ┌─┴─┐       ┌─┴─┐»\n",
      "«qreg_1: ──┤ U3(π,π,0) ├───┤ U3(-2.1176,0,0) ├┤ X ├─┼────┤ X ├─■─────┤ X ├»\n",
      "«        ┌─┴───────────┴──┐└──────┬───┬──────┘└───┘ │    └───┘ │     └───┘»\n",
      "«qreg_2: ┤ U3(-1.349,0,0) ├───────┤ X ├─────────────┼──────────┼──────────»\n",
      "«        └────────────────┘       └───┘             │π/4       │-π/4      »\n",
      "«qreg_3: ───────────────────────────────────────────■──────────■──────────»\n",
      "«                                                                         »\n",
      "«creg: 3/═════════════════════════════════════════════════════════════════»\n",
      "«                                                                         »\n",
      "«                                                            ┌───┐       »\n",
      "«qreg_0: ────────────────────■──────────────────────■────────┤ X ├───────»\n",
      "«                            │              ┌───┐   │  ┌─────┴───┴──────┐»\n",
      "«qreg_1: ─■──────■───────────┼──────────■───┤ X ├───┼──┤ U3(2.1176,0,0) ├»\n",
      "«         │    ┌─┴─┐       ┌─┴─┐      ┌─┴─┐ └───┘ ┌─┴─┐└────────────────┘»\n",
      "«qreg_2: ─┼────┤ X ├─■─────┤ X ├─■────┤ X ├─■─────┤ X ├───────■──────────»\n",
      "«         │π/4 └───┘ │-π/4 └───┘ │π/4 └───┘ │-π/4 └───┘       │π/4       »\n",
      "«qreg_3: ─■──────────■───────────■──────────■─────────────────■──────────»\n",
      "«                                                                        »\n",
      "«creg: 3/════════════════════════════════════════════════════════════════»\n",
      "«                                                                        »\n",
      "«        ┌────────────────┐      ┌───┐      \n",
      "«qreg_0: ┤ U3(1.2661,0,0) ├──────┤ X ├──────\n",
      "«        └────────────────┘      └───┘      \n",
      "«qreg_1: ───────────────────────────────────\n",
      "«              ┌───┐       ┌───────────────┐\n",
      "«qreg_2: ──────┤ X ├───────┤ U3(1.349,0,0) ├\n",
      "«              ├───┤       └───────────────┘\n",
      "«qreg_3: ──────┤ X ├────────────────────────\n",
      "«              └───┘                        \n",
      "«creg: 3/═══════════════════════════════════\n",
      "«                                           \n"
     ]
    }
   ],
   "source": [
    "print(circ)"
   ]
  },
  {
   "cell_type": "markdown",
   "metadata": {},
   "source": [
    "# Measure"
   ]
  },
  {
   "cell_type": "code",
   "execution_count": 10,
   "metadata": {},
   "outputs": [
    {
     "data": {
      "text/plain": [
       "<qiskit.circuit.instructionset.InstructionSet at 0x1e150fc1988>"
      ]
     },
     "execution_count": 10,
     "metadata": {},
     "output_type": "execute_result"
    }
   ],
   "source": [
    "# Measure E, and rotate H to the P(1) value in the second row of the P(H|E) table condtioned on E\n",
    "circ.measure(net[1], cl[1])\n",
    "circ.u3(probToAngle(0.82) - probToAngle(0.39), 0, 0, net[2])\n",
    "\n",
    "# Sample by measuring the rest of the qubits\n",
    "circ.measure(net[0], cl[0])\n",
    "circ.measure(net[2], cl[2])"
   ]
  },
  {
   "cell_type": "code",
   "execution_count": 11,
   "metadata": {},
   "outputs": [
    {
     "name": "stdout",
     "output_type": "stream",
     "text": [
      "        ┌────────────────┐                               ┌─────────────────┐»\n",
      "qreg_0: ┤ U3(1.2661,0,0) ├────────■───────────────■──────┤ U3(-1.2661,0,0) ├»\n",
      "        ├────────────────┤  ┌─────┴─────┐   ┌─────┴─────┐├─────────────────┤»\n",
      "qreg_1: ┤ U3(2.1176,0,0) ├──┤ U3(π,π,0) ├───┤ U3(π,π,0) ├┤ U3(-2.1176,0,0) ├»\n",
      "        ├───────────────┬┘┌─┴───────────┴──┐└───┬───┬───┘└─────────────────┘»\n",
      "qreg_2: ┤ U3(1.349,0,0) ├─┤ U3(-1.349,0,0) ├────┤ X ├───────────────────────»\n",
      "        └─────┬───┬─────┘ └────────────────┘    └───┘                       »\n",
      "qreg_3: ──────┤ X ├─────────────────────────────────────────────────────────»\n",
      "              └───┘                                                         »\n",
      "creg: 3/════════════════════════════════════════════════════════════════════»\n",
      "                                                                            »\n",
      "«        ┌───┐                                                                »\n",
      "«qreg_0: ┤ X ├─■──────■───────────■──────────────────────■────────────────────»\n",
      "«        ├───┤ │    ┌─┴─┐       ┌─┴─┐                    │              ┌───┐ »\n",
      "«qreg_1: ┤ X ├─┼────┤ X ├─■─────┤ X ├─■──────■───────────┼──────────■───┤ X ├─»\n",
      "«        └───┘ │    └───┘ │     └───┘ │    ┌─┴─┐       ┌─┴─┐      ┌─┴─┐ └───┘ »\n",
      "«qreg_2: ──────┼──────────┼───────────┼────┤ X ├─■─────┤ X ├─■────┤ X ├─■─────»\n",
      "«              │π/4       │-π/4       │π/4 └───┘ │-π/4 └───┘ │π/4 └───┘ │-π/4 »\n",
      "«qreg_3: ──────■──────────■───────────■──────────■───────────■──────────■─────»\n",
      "«                                                                             »\n",
      "«creg: 3/═════════════════════════════════════════════════════════════════════»\n",
      "«                                                                             »\n",
      "«                   ┌───┐       ┌────────────────┐                 »\n",
      "«qreg_0: ──■────────┤ X ├───────┤ U3(1.2661,0,0) ├────────■────────»\n",
      "«          │  ┌─────┴───┴──────┐└────────────────┘  ┌─────┴─────┐  »\n",
      "«qreg_1: ──┼──┤ U3(2.1176,0,0) ├────────────────────┤ U3(π,π,0) ├──»\n",
      "«        ┌─┴─┐└────────────────┘      ┌───┐       ┌─┴───────────┴─┐»\n",
      "«qreg_2: ┤ X ├───────■────────────────┤ X ├───────┤ U3(1.349,0,0) ├»\n",
      "«        └───┘       │π/4             ├───┤       └─────┬───┬─────┘»\n",
      "«qreg_3: ────────────■────────────────┤ X ├─────────────┤ X ├──────»\n",
      "«                                     └───┘             └───┘      »\n",
      "«creg: 3/══════════════════════════════════════════════════════════»\n",
      "«                                                                  »\n",
      "«                          ┌─────────────────┐┌───┐                       »\n",
      "«qreg_0: ────────■─────────┤ U3(-1.2661,0,0) ├┤ X ├─■──────■───────────■──»\n",
      "«          ┌─────┴─────┐   ├─────────────────┤├───┤ │    ┌─┴─┐       ┌─┴─┐»\n",
      "«qreg_1: ──┤ U3(π,π,0) ├───┤ U3(-2.1176,0,0) ├┤ X ├─┼────┤ X ├─■─────┤ X ├»\n",
      "«        ┌─┴───────────┴──┐└──────┬───┬──────┘└───┘ │    └───┘ │     └───┘»\n",
      "«qreg_2: ┤ U3(-1.349,0,0) ├───────┤ X ├─────────────┼──────────┼──────────»\n",
      "«        └────────────────┘       └───┘             │π/4       │-π/4      »\n",
      "«qreg_3: ───────────────────────────────────────────■──────────■──────────»\n",
      "«                                                                         »\n",
      "«creg: 3/═════════════════════════════════════════════════════════════════»\n",
      "«                                                                         »\n",
      "«                                                            ┌───┐       »\n",
      "«qreg_0: ────────────────────■──────────────────────■────────┤ X ├───────»\n",
      "«                            │              ┌───┐   │  ┌─────┴───┴──────┐»\n",
      "«qreg_1: ─■──────■───────────┼──────────■───┤ X ├───┼──┤ U3(2.1176,0,0) ├»\n",
      "«         │    ┌─┴─┐       ┌─┴─┐      ┌─┴─┐ └───┘ ┌─┴─┐└────────────────┘»\n",
      "«qreg_2: ─┼────┤ X ├─■─────┤ X ├─■────┤ X ├─■─────┤ X ├───────■──────────»\n",
      "«         │π/4 └───┘ │-π/4 └───┘ │π/4 └───┘ │-π/4 └───┘       │π/4       »\n",
      "«qreg_3: ─■──────────■───────────■──────────■─────────────────■──────────»\n",
      "«                                                                        »\n",
      "«creg: 3/════════════════════════════════════════════════════════════════»\n",
      "«                                                                        »\n",
      "«        ┌────────────────┐┌───┐                                    ┌─┐   \n",
      "«qreg_0: ┤ U3(1.2661,0,0) ├┤ X ├────────────────────────────────────┤M├───\n",
      "«        └──────┬─┬───────┘└───┘                                    └╥┘   \n",
      "«qreg_1: ───────┤M├──────────────────────────────────────────────────╫────\n",
      "«               └╥┘        ┌───┐┌───────────────┐┌─────────────────┐ ║ ┌─┐\n",
      "«qreg_2: ────────╫─────────┤ X ├┤ U3(1.349,0,0) ├┤ U3(0.91631,0,0) ├─╫─┤M├\n",
      "«                ║         ├───┤└───────────────┘└─────────────────┘ ║ └╥┘\n",
      "«qreg_3: ────────╫─────────┤ X ├─────────────────────────────────────╫──╫─\n",
      "«                ║         └───┘                                     ║  ║ \n",
      "«creg: 3/════════╩═══════════════════════════════════════════════════╩══╩═\n",
      "«                1                                                   0  2 \n"
     ]
    }
   ],
   "source": [
    "print(circ)"
   ]
  },
  {
   "cell_type": "markdown",
   "metadata": {},
   "source": [
    "# backend from Aer provider\n"
   ]
  },
  {
   "cell_type": "code",
   "execution_count": 12,
   "metadata": {},
   "outputs": [
    {
     "name": "stdout",
     "output_type": "stream",
     "text": [
      "\n",
      "1000 samples drawn: 631 samples accepted, 369 samples rejected.\n",
      "Percentage of samples rejected:  36.9 %\n",
      "P(H = 0| P = 1) = 0.18225039619651348\n",
      "\n"
     ]
    }
   ],
   "source": [
    "# Get backend from Aer provider\n",
    "backend = Aer.get_backend('qasm_simulator')\n",
    "\n",
    "# Run job many times to get multiple samples\n",
    "samples_list = []\n",
    "n_samples = 1000\n",
    "\n",
    "for i in range(n_samples):\n",
    "    job = execute(circ, backend=backend, shots=1)\n",
    "    result = list(job.result().get_counts(circ).keys())[0]\n",
    "    if result[2] == '1':\n",
    "        samples_list.append(result)\n",
    "\n",
    "# Printing the number of useful samples and percentage of samples rejected\n",
    "print()\n",
    "print(n_samples, 'samples drawn:', len(samples_list), 'samples accepted,', n_samples-len(samples_list), 'samples rejected.' )\n",
    "print('Percentage of samples rejected: ', 100*(1 - (len(samples_list)/n_samples)), '%')\n",
    "\n",
    "# Computing P(H = 0| P = 1)\n",
    "p_H = 0\n",
    "\n",
    "for i in samples_list:\n",
    "    if i[0] == '0':\n",
    "        p_H += 1\n",
    "\n",
    "p_H /= len(samples_list)\n",
    "\n",
    "print('P(H = 0| P = 1) =', p_H)\n",
    "print()"
   ]
  },
  {
   "cell_type": "code",
   "execution_count": null,
   "metadata": {},
   "outputs": [],
   "source": []
  }
 ],
 "metadata": {
  "kernelspec": {
   "display_name": "Python 3",
   "language": "python",
   "name": "python3"
  },
  "language_info": {
   "codemirror_mode": {
    "name": "ipython",
    "version": 3
   },
   "file_extension": ".py",
   "mimetype": "text/x-python",
   "name": "python",
   "nbconvert_exporter": "python",
   "pygments_lexer": "ipython3",
   "version": "3.7.4"
  }
 },
 "nbformat": 4,
 "nbformat_minor": 4
}
