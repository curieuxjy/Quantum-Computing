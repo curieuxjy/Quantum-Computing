{
 "cells": [
  {
   "cell_type": "markdown",
   "id": "hollow-miniature",
   "metadata": {},
   "source": [
    "[Option Pricing with qGANs](https://qiskit.org/documentation/tutorials/finance/10_qgan_option_pricing.html)s\n",
    "\n",
    "how a Quantum Generative Adversarial Network (qGAN), can `facilitate the pricing of a European call option.`\n",
    "- call option : 살 수 있는 권리. 기초자산을 약정된 가격으로 미래 시점에 매입할 수 있는 권리\n",
    "- european option : 약정기간의 만기에만 권리행사를 할 수 있는 옵션\n",
    "\n",
    "a qGAN can be trained such that `a quantum circuit models the spot price of an asset underlying a European call option.` \n",
    "\n",
    "The resulting model can then be integrated into `a Quantum Amplitude Estimation` based algorithm to `evaluate the expected payoff` - see [European Call Option Pricing](https://qiskit.org/documentation/tutorials/finance/03_european_call_option_pricing.html).\n",
    "\n",
    "\n",
    "For further details on learning and loading random distributions by training a qGAN please refer to Quantum Generative Adversarial Networks for Learning and Loading Random Distributions. Zoufal, Lucchi, Woerner. 2019."
   ]
  },
  {
   "cell_type": "code",
   "execution_count": 2,
   "id": "varying-third",
   "metadata": {},
   "outputs": [],
   "source": [
    "import matplotlib.pyplot as plt\n",
    "import numpy as np\n",
    "\n",
    "from qiskit import Aer, QuantumRegister, QuantumCircuit\n",
    "from qiskit.circuit import ParameterVector\n",
    "from qiskit.circuit.library import TwoLocal, NormalDistribution\n",
    "from qiskit.quantum_info import Statevector\n",
    "\n",
    "from qiskit.aqua import aqua_globals, QuantumInstance\n",
    "from qiskit.aqua.algorithms import IterativeAmplitudeEstimation\n",
    "from qiskit.finance.applications import EuropeanCallExpectedValue"
   ]
  },
  {
   "cell_type": "markdown",
   "id": "divine-checklist",
   "metadata": {},
   "source": [
    "## Uncertainty Model\n",
    "\n",
    "The Black-Scholes model assumes that the spot price at maturity ST for a European call option is `log-normally distributed`. \n",
    "\n",
    "Thus, we can train a qGAN on samples from a log-normal distribution and use the result as an uncertainty model underlying the option. \n",
    "\n",
    "In the following, we construct a quantum circuit that loads the uncertainty model. \n",
    "\n",
    "- output: $\\left|g_{\\theta}\\right\\rangle=\\sum_{j=0}^{2^{n}-1} \\sqrt{p_{\\theta}^{j}}|j\\rangle$\n",
    "    - $p_{\\theta}^{j}$, for $j \\in\\left\\{0, \\ldots, 2^{n}-1\\right\\}$ 확률\n",
    "    \n",
    "[TwoLocal](https://qiskit.org/documentation/stubs/qiskit.circuit.library.TwoLocal.html)"
   ]
  },
  {
   "cell_type": "code",
   "execution_count": 3,
   "id": "coordinate-decade",
   "metadata": {},
   "outputs": [],
   "source": [
    "# Set upper and lower data values\n",
    "bounds = np.array([0.,7.])\n",
    "# Set number of qubits used in the uncertainty model\n",
    "num_qubits = 3\n",
    "\n",
    "# Load the trained circuit parameters\n",
    "# 어떻게 훈련된..?\n",
    "g_params = [0.29399714, 0.38853322, 0.9557694, 0.07245791, 6.02626428, 0.13537225]\n",
    "\n",
    "# Set an initial state for the generator circuit\n",
    "init_dist = NormalDistribution(num_qubits, mu=1., sigma=1., bounds=bounds)\n",
    "\n",
    "# construct the variational form\n",
    "var_form = TwoLocal(num_qubits, 'ry', 'cz', entanglement='circular', reps=1)\n",
    "\n",
    "# keep a list of the parameters so we can associate them to the list of numerical values\n",
    "# (otherwise we need a dictionary)\n",
    "theta = var_form.ordered_parameters\n",
    "\n",
    "# compose the generator circuit, this is the circuit loading the uncertainty model\n",
    "# 완성\n",
    "g_circuit = init_dist.compose(var_form)"
   ]
  },
  {
   "cell_type": "code",
   "execution_count": 13,
   "id": "celtic-orlando",
   "metadata": {},
   "outputs": [
    {
     "name": "stdout",
     "output_type": "stream",
     "text": [
      "     ┌──────────┐      ┌──────────┐            \n",
      "q_0: ┤ RY(θ[0]) ├─■──■─┤ RY(θ[3]) ├────────────\n",
      "     ├──────────┤ │  │ └──────────┘┌──────────┐\n",
      "q_1: ┤ RY(θ[1]) ├─┼──■──────■──────┤ RY(θ[4]) ├\n",
      "     ├──────────┤ │         │      ├──────────┤\n",
      "q_2: ┤ RY(θ[2]) ├─■─────────■──────┤ RY(θ[5]) ├\n",
      "     └──────────┘                  └──────────┘\n"
     ]
    }
   ],
   "source": [
    "print(var_form)"
   ]
  },
  {
   "cell_type": "code",
   "execution_count": 15,
   "id": "contained-flash",
   "metadata": {},
   "outputs": [
    {
     "name": "stdout",
     "output_type": "stream",
     "text": [
      "[Parameter(θ[0]), Parameter(θ[1]), Parameter(θ[2]), Parameter(θ[3]), Parameter(θ[4]), Parameter(θ[5])]\n"
     ]
    }
   ],
   "source": [
    "print(theta)"
   ]
  },
  {
   "cell_type": "code",
   "execution_count": 14,
   "id": "rolled-realtor",
   "metadata": {},
   "outputs": [
    {
     "name": "stdout",
     "output_type": "stream",
     "text": [
      "                                                        »\n",
      "q_0: ───────────────────────────────────────────────────»\n",
      "                              ┌────────────────────────┐»\n",
      "q_1: ─────────────────────────┤0                       ├»\n",
      "     ┌───────────────────────┐│  multiplex2_reverse_dg │»\n",
      "q_2: ┤ multiplex1_reverse_dg ├┤1                       ├»\n",
      "     └───────────────────────┘└────────────────────────┘»\n",
      "«     ┌────────────────────────┐┌──────────┐      ┌──────────┐            \n",
      "«q_0: ┤0                       ├┤ RY(θ[0]) ├─■──■─┤ RY(θ[3]) ├────────────\n",
      "«     │                        │├──────────┤ │  │ └──────────┘┌──────────┐\n",
      "«q_1: ┤1 multiplex3_reverse_dg ├┤ RY(θ[1]) ├─┼──■──────■──────┤ RY(θ[4]) ├\n",
      "«     │                        │├──────────┤ │         │      ├──────────┤\n",
      "«q_2: ┤2                       ├┤ RY(θ[2]) ├─■─────────■──────┤ RY(θ[5]) ├\n",
      "«     └────────────────────────┘└──────────┘                  └──────────┘\n"
     ]
    }
   ],
   "source": [
    "print(g_circuit)"
   ]
  },
  {
   "cell_type": "markdown",
   "id": "informed-yahoo",
   "metadata": {},
   "source": [
    "## Evaluate Expected Payoff\n",
    "\n",
    "the trained uncertainty model can be used to evaluate the expectation value of the option’s payoff function with `Quantum Amplitude Estimation`.\n",
    "\n",
    "[EuropeanCallExpectedValue](https://qiskit.org/documentation/stubs/qiskit.finance.components.uncertainty_problems.EuropeanCallExpectedValue.html?highlight=europeancallexpectedvalue#qiskit.finance.components.uncertainty_problems.EuropeanCallExpectedValue)"
   ]
  },
  {
   "cell_type": "code",
   "execution_count": 4,
   "id": "liked-sudan",
   "metadata": {},
   "outputs": [],
   "source": [
    "# set the strike price (should be within the low and the high value of the uncertainty)\n",
    "strike_price = 2\n",
    "\n",
    "# set the approximation scaling for the payoff function\n",
    "c_approx = 0.25\n",
    "\n",
    "# construct circuit for payoff function\n",
    "european_call_objective = EuropeanCallExpectedValue(\n",
    "    num_qubits,\n",
    "    strike_price=strike_price,\n",
    "    rescaling_factor=c_approx,\n",
    "    bounds=bounds\n",
    ")"
   ]
  },
  {
   "cell_type": "code",
   "execution_count": null,
   "id": "italic-beach",
   "metadata": {},
   "outputs": [],
   "source": []
  },
  {
   "cell_type": "markdown",
   "id": "outstanding-blood",
   "metadata": {},
   "source": [
    "## Plot the probability distribution\n",
    "\n",
    "plot the trained probability distribution and, for reasons of comparison, also the target probability distribution."
   ]
  },
  {
   "cell_type": "code",
   "execution_count": 5,
   "id": "mineral-opinion",
   "metadata": {},
   "outputs": [
    {
     "data": {
      "image/png": "[encoded data removed]",
      "text/plain": [
       "<Figure size 432x288 with 1 Axes>"
      ]
     },
     "metadata": {
      "needs_background": "light"
     },
     "output_type": "display_data"
    }
   ],
   "source": [
    "# Evaluate trained probability distribution\n",
    "values = [bounds[0] + (bounds[1] - bounds[0]) * x / (2 ** num_qubits - 1) for x in range(2**num_qubits)]\n",
    "uncertainty_model = g_circuit.assign_parameters(dict(zip(theta, g_params)))\n",
    "amplitudes = Statevector.from_instruction(uncertainty_model).data\n",
    "\n",
    "x = np.array(values)\n",
    "y = np.abs(amplitudes) ** 2\n",
    "\n",
    "# Sample from target probability distribution\n",
    "N = 100000\n",
    "log_normal = np.random.lognormal(mean=1, sigma=1, size=N)\n",
    "log_normal = np.round(log_normal)\n",
    "log_normal = log_normal[log_normal <= 7]\n",
    "log_normal_samples = []\n",
    "for i in range(8):\n",
    "    log_normal_samples += [np.sum(log_normal==i)]\n",
    "log_normal_samples = np.array(log_normal_samples / sum(log_normal_samples))\n",
    "\n",
    "# Plot distributions\n",
    "plt.bar(x, y, width=0.2, label='trained distribution', color='royalblue')\n",
    "plt.xticks(x, size=15, rotation=90)\n",
    "plt.yticks(size=15)\n",
    "plt.grid()\n",
    "plt.xlabel('Spot Price at Maturity $S_T$ (\\$)', size=15)\n",
    "plt.ylabel('Probability ($\\%$)', size=15)\n",
    "plt.plot(log_normal_samples,'-o', color ='deepskyblue', label='target distribution', linewidth=4, markersize=12)\n",
    "plt.legend(loc='best')\n",
    "plt.show()"
   ]
  },
  {
   "cell_type": "code",
   "execution_count": null,
   "id": "heard-diana",
   "metadata": {},
   "outputs": [],
   "source": []
  },
  {
   "cell_type": "markdown",
   "id": "municipal-camel",
   "metadata": {},
   "source": [
    "## Evaluate Expected Payoff\n",
    "\n",
    "the trained uncertainty model can be used to evaluate the expectation value of the option’s payoff function analytically and with Quantum Amplitude Estimation."
   ]
  },
  {
   "cell_type": "code",
   "execution_count": 6,
   "id": "spoken-korea",
   "metadata": {},
   "outputs": [
    {
     "name": "stdout",
     "output_type": "stream",
     "text": [
      "Analytically calculated expected payoff w.r.t. the target distribution:  1.0666\n",
      "Analytically calculated expected payoff w.r.t. the trained distribution: 0.9805\n"
     ]
    },
    {
     "data": {
      "image/png": "[encoded data removed]",
      "text/plain": [
       "<Figure size 432x288 with 1 Axes>"
      ]
     },
     "metadata": {
      "needs_background": "light"
     },
     "output_type": "display_data"
    }
   ],
   "source": [
    "# Evaluate payoff for different distributions\n",
    "payoff = np.array([0,0,0,1,2,3,4,5])\n",
    "ep = np.dot(log_normal_samples, payoff)\n",
    "print(\"Analytically calculated expected payoff w.r.t. the target distribution:  %.4f\" % ep)\n",
    "ep_trained = np.dot(y, payoff)\n",
    "print(\"Analytically calculated expected payoff w.r.t. the trained distribution: %.4f\" % ep_trained)\n",
    "\n",
    "# Plot exact payoff function (evaluated on the grid of the trained uncertainty model)\n",
    "x = np.array(values)\n",
    "y_strike = np.maximum(0, x - strike_price)\n",
    "plt.plot(x, y_strike, 'ro-')\n",
    "plt.grid()\n",
    "plt.title('Payoff Function', size=15)\n",
    "plt.xlabel('Spot Price', size=15)\n",
    "plt.ylabel('Payoff', size=15)\n",
    "plt.xticks(x, size=15, rotation=90)\n",
    "plt.yticks(size=15)\n",
    "plt.show()"
   ]
  },
  {
   "cell_type": "code",
   "execution_count": null,
   "id": "chubby-occasions",
   "metadata": {},
   "outputs": [],
   "source": []
  },
  {
   "cell_type": "code",
   "execution_count": 7,
   "id": "lined-integer",
   "metadata": {},
   "outputs": [],
   "source": [
    "# construct A operator for QAE\n",
    "# QAE? Iterative Quantum Amplitude Estimation (IQAE) \n",
    "european_call = european_call_objective.compose(uncertainty_model, front=True)"
   ]
  },
  {
   "cell_type": "markdown",
   "id": "guilty-mongolia",
   "metadata": {},
   "source": [
    "[IterativeAmplitudeEstimation](https://qiskit.org/documentation/stubs/qiskit.aqua.algorithms.IterativeAmplitudeEstimation.html?highlight=iterativeamplitudeestimation#qiskit.aqua.algorithms.IterativeAmplitudeEstimation)"
   ]
  },
  {
   "cell_type": "code",
   "execution_count": 8,
   "id": "mature-novel",
   "metadata": {},
   "outputs": [],
   "source": [
    "# set target precision and confidence level\n",
    "epsilon = 0.01\n",
    "alpha = 0.05\n",
    "\n",
    "# construct amplitude estimation\n",
    "ae = IterativeAmplitudeEstimation(epsilon=epsilon, alpha=alpha,\n",
    "                                  state_preparation=european_call,\n",
    "                                  objective_qubits=[num_qubits],\n",
    "                                  post_processing=european_call_objective.post_processing)"
   ]
  },
  {
   "cell_type": "code",
   "execution_count": 9,
   "id": "packed-single",
   "metadata": {},
   "outputs": [],
   "source": [
    "# Execute the algorithm with selected backend.\n",
    "result = ae.run(quantum_instance=Aer.get_backend('qasm_simulator'), shots=100)"
   ]
  },
  {
   "cell_type": "code",
   "execution_count": 23,
   "id": "turkish-natural",
   "metadata": {},
   "outputs": [
    {
     "name": "stdout",
     "output_type": "stream",
     "text": [
      "['confidence_interval', 'estimation', 'num_oracle_queries', 'value_confidence_interval', 'alpha', 'actual_epsilon', 'a_intervals', 'theta_intervals', 'powers', 'ratios']\n"
     ]
    }
   ],
   "source": [
    "print([i for i in result.keys()])"
   ]
  },
  {
   "cell_type": "code",
   "execution_count": 10,
   "id": "aerial-venue",
   "metadata": {},
   "outputs": [
    {
     "name": "stdout",
     "output_type": "stream",
     "text": [
      "Exact value:        \t0.9805\n",
      "Estimated value:    \t1.0225\n",
      "Confidence interval:\t[0.9808, 1.0643]\n"
     ]
    }
   ],
   "source": [
    "conf_int = np.array(result['confidence_interval'])\n",
    "print('Exact value:        \\t%.4f' % ep_trained)\n",
    "print('Estimated value:    \\t%.4f' % (result['estimation']))\n",
    "print('Confidence interval:\\t[%.4f, %.4f]' % tuple(conf_int))"
   ]
  },
  {
   "cell_type": "code",
   "execution_count": null,
   "id": "checked-wilderness",
   "metadata": {},
   "outputs": [],
   "source": []
  },
  {
   "cell_type": "code",
   "execution_count": null,
   "id": "perfect-lexington",
   "metadata": {},
   "outputs": [],
   "source": []
  },
  {
   "cell_type": "code",
   "execution_count": null,
   "id": "seven-grave",
   "metadata": {},
   "outputs": [],
   "source": []
  },
  {
   "cell_type": "code",
   "execution_count": null,
   "id": "miniature-microphone",
   "metadata": {},
   "outputs": [],
   "source": []
  },
  {
   "cell_type": "code",
   "execution_count": null,
   "id": "fleet-peninsula",
   "metadata": {},
   "outputs": [],
   "source": []
  },
  {
   "cell_type": "code",
   "execution_count": 11,
   "id": "current-intent",
   "metadata": {},
   "outputs": [
    {
     "data": {
      "text/html": [
       "<h3>Version Information</h3><table><tr><th>Qiskit Software</th><th>Version</th></tr><tr><td>Qiskit</td><td>0.23.1</td></tr><tr><td>Terra</td><td>0.16.1</td></tr><tr><td>Aer</td><td>0.7.1</td></tr><tr><td>Ignis</td><td>0.5.1</td></tr><tr><td>Aqua</td><td>0.8.1</td></tr><tr><td>IBM Q Provider</td><td>0.11.1</td></tr><tr><th>System information</th></tr><tr><td>Python</td><td>3.7.4 (default, Aug  9 2019, 18:34:13) [MSC v.1915 64 bit (AMD64)]</td></tr><tr><td>OS</td><td>Windows</td></tr><tr><td>CPUs</td><td>4</td></tr><tr><td>Memory (Gb)</td><td>15.837238311767578</td></tr><tr><td colspan='2'>Wed Feb 10 17:59:34 2021 ´ëÇÑ¹Î±¹ Ç¥ÁØ½Ã</td></tr></table>"
      ],
      "text/plain": [
       "<IPython.core.display.HTML object>"
      ]
     },
     "metadata": {},
     "output_type": "display_data"
    },
    {
     "data": {
      "text/html": [
       "<div style='width: 100%; background-color:#d5d9e0;padding-left: 10px; padding-bottom: 10px; padding-right: 10px; padding-top: 5px'><h3>This code is a part of Qiskit</h3><p>&copy; Copyright IBM 2017, 2021.</p><p>This code is licensed under the Apache License, Version 2.0. You may<br>obtain a copy of this license in the LICENSE.txt file in the root directory<br> of this source tree or at http://www.apache.org/licenses/LICENSE-2.0.<p>Any modifications or derivative works of this code must retain this<br>copyright notice, and modified files need to carry a notice indicating<br>that they have been altered from the originals.</p></div>"
      ],
      "text/plain": [
       "<IPython.core.display.HTML object>"
      ]
     },
     "metadata": {},
     "output_type": "display_data"
    }
   ],
   "source": [
    "import qiskit.tools.jupyter\n",
    "%qiskit_version_table\n",
    "%qiskit_copyright"
   ]
  },
  {
   "cell_type": "code",
   "execution_count": null,
   "id": "unknown-inside",
   "metadata": {},
   "outputs": [],
   "source": []
  }
 ],
 "metadata": {
  "kernelspec": {
   "display_name": "Python 3",
   "language": "python",
   "name": "python3"
  },
  "language_info": {
   "codemirror_mode": {
    "name": "ipython",
    "version": 3
   },
   "file_extension": ".py",
   "mimetype": "text/x-python",
   "name": "python",
   "nbconvert_exporter": "python",
   "pygments_lexer": "ipython3",
   "version": "3.7.4"
  }
 },
 "nbformat": 4,
 "nbformat_minor": 5
}
